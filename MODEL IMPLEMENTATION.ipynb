{
 "cells": [
  {
   "cell_type": "code",
   "execution_count": 1,
   "id": "59c44722",
   "metadata": {},
   "outputs": [],
   "source": [
    "import numpy as np\n",
    "import pandas as pd\n",
    "import seaborn as sns\n",
    "import matplotlib.pyplot as plt\n",
    "from sklearn.ensemble import GradientBoostingClassifier\n",
    "from sklearn.ensemble import RandomForestClassifier\n",
    "from sklearn.model_selection import cross_val_score\n",
    "from sklearn.tree import DecisionTreeClassifier\n",
    "from sklearn.neighbors import KNeighborsClassifier\n",
    "from  sklearn import svm\n",
    "from sklearn.preprocessing import LabelEncoder\n",
    "enc=LabelEncoder()"
   ]
  },
  {
   "cell_type": "code",
   "execution_count": 2,
   "id": "bce4f9d9",
   "metadata": {},
   "outputs": [],
   "source": [
    "data1=pd.read_csv('applicant.csv')"
   ]
  },
  {
   "cell_type": "code",
   "execution_count": 3,
   "id": "61b9aed0",
   "metadata": {},
   "outputs": [],
   "source": [
    "data2=pd.read_csv('loan.csv')"
   ]
  },
  {
   "cell_type": "code",
   "execution_count": 4,
   "id": "827cf171",
   "metadata": {},
   "outputs": [
    {
     "data": {
      "text/html": [
       "<div>\n",
       "<style scoped>\n",
       "    .dataframe tbody tr th:only-of-type {\n",
       "        vertical-align: middle;\n",
       "    }\n",
       "\n",
       "    .dataframe tbody tr th {\n",
       "        vertical-align: top;\n",
       "    }\n",
       "\n",
       "    .dataframe thead th {\n",
       "        text-align: right;\n",
       "    }\n",
       "</style>\n",
       "<table border=\"1\" class=\"dataframe\">\n",
       "  <thead>\n",
       "    <tr style=\"text-align: right;\">\n",
       "      <th></th>\n",
       "      <th>applicant_id</th>\n",
       "      <th>Primary_applicant_age_in_years</th>\n",
       "      <th>Gender</th>\n",
       "      <th>Marital_status</th>\n",
       "      <th>Number_of_dependents</th>\n",
       "      <th>Housing</th>\n",
       "      <th>Years_at_current_residence</th>\n",
       "      <th>Employment_status</th>\n",
       "      <th>Has_been_employed_for_at_least</th>\n",
       "      <th>Has_been_employed_for_at_most</th>\n",
       "      <th>Telephone</th>\n",
       "      <th>Foreign_worker</th>\n",
       "      <th>Savings_account_balance</th>\n",
       "      <th>Balance_in_existing_bank_account_(lower_limit_of_bucket)</th>\n",
       "      <th>Balance_in_existing_bank_account_(upper_limit_of_bucket)</th>\n",
       "    </tr>\n",
       "  </thead>\n",
       "  <tbody>\n",
       "    <tr>\n",
       "      <th>0</th>\n",
       "      <td>1469590</td>\n",
       "      <td>67</td>\n",
       "      <td>male</td>\n",
       "      <td>single</td>\n",
       "      <td>1</td>\n",
       "      <td>own</td>\n",
       "      <td>4</td>\n",
       "      <td>skilled employee / official</td>\n",
       "      <td>7 years</td>\n",
       "      <td>NaN</td>\n",
       "      <td>Registered under the applicant's name</td>\n",
       "      <td>1</td>\n",
       "      <td>NaN</td>\n",
       "      <td>NaN</td>\n",
       "      <td>0</td>\n",
       "    </tr>\n",
       "    <tr>\n",
       "      <th>1</th>\n",
       "      <td>1203873</td>\n",
       "      <td>22</td>\n",
       "      <td>female</td>\n",
       "      <td>divorced/separated/married</td>\n",
       "      <td>1</td>\n",
       "      <td>own</td>\n",
       "      <td>2</td>\n",
       "      <td>skilled employee / official</td>\n",
       "      <td>1 year</td>\n",
       "      <td>4 years</td>\n",
       "      <td>NaN</td>\n",
       "      <td>1</td>\n",
       "      <td>Low</td>\n",
       "      <td>0</td>\n",
       "      <td>2 lac</td>\n",
       "    </tr>\n",
       "    <tr>\n",
       "      <th>2</th>\n",
       "      <td>1432761</td>\n",
       "      <td>49</td>\n",
       "      <td>male</td>\n",
       "      <td>single</td>\n",
       "      <td>2</td>\n",
       "      <td>own</td>\n",
       "      <td>3</td>\n",
       "      <td>unskilled - resident</td>\n",
       "      <td>4 years</td>\n",
       "      <td>7 years</td>\n",
       "      <td>NaN</td>\n",
       "      <td>1</td>\n",
       "      <td>Low</td>\n",
       "      <td>NaN</td>\n",
       "      <td>NaN</td>\n",
       "    </tr>\n",
       "    <tr>\n",
       "      <th>3</th>\n",
       "      <td>1207582</td>\n",
       "      <td>45</td>\n",
       "      <td>male</td>\n",
       "      <td>single</td>\n",
       "      <td>2</td>\n",
       "      <td>for free</td>\n",
       "      <td>4</td>\n",
       "      <td>skilled employee / official</td>\n",
       "      <td>4 years</td>\n",
       "      <td>7 years</td>\n",
       "      <td>NaN</td>\n",
       "      <td>1</td>\n",
       "      <td>Low</td>\n",
       "      <td>NaN</td>\n",
       "      <td>0</td>\n",
       "    </tr>\n",
       "    <tr>\n",
       "      <th>4</th>\n",
       "      <td>1674436</td>\n",
       "      <td>53</td>\n",
       "      <td>male</td>\n",
       "      <td>single</td>\n",
       "      <td>2</td>\n",
       "      <td>for free</td>\n",
       "      <td>4</td>\n",
       "      <td>skilled employee / official</td>\n",
       "      <td>1 year</td>\n",
       "      <td>4 years</td>\n",
       "      <td>NaN</td>\n",
       "      <td>1</td>\n",
       "      <td>Low</td>\n",
       "      <td>NaN</td>\n",
       "      <td>0</td>\n",
       "    </tr>\n",
       "  </tbody>\n",
       "</table>\n",
       "</div>"
      ],
      "text/plain": [
       "   applicant_id  Primary_applicant_age_in_years  Gender  \\\n",
       "0       1469590                              67    male   \n",
       "1       1203873                              22  female   \n",
       "2       1432761                              49    male   \n",
       "3       1207582                              45    male   \n",
       "4       1674436                              53    male   \n",
       "\n",
       "               Marital_status  Number_of_dependents   Housing  \\\n",
       "0                      single                     1       own   \n",
       "1  divorced/separated/married                     1       own   \n",
       "2                      single                     2       own   \n",
       "3                      single                     2  for free   \n",
       "4                      single                     2  for free   \n",
       "\n",
       "   Years_at_current_residence            Employment_status  \\\n",
       "0                           4  skilled employee / official   \n",
       "1                           2  skilled employee / official   \n",
       "2                           3         unskilled - resident   \n",
       "3                           4  skilled employee / official   \n",
       "4                           4  skilled employee / official   \n",
       "\n",
       "  Has_been_employed_for_at_least Has_been_employed_for_at_most  \\\n",
       "0                        7 years                           NaN   \n",
       "1                         1 year                       4 years   \n",
       "2                        4 years                       7 years   \n",
       "3                        4 years                       7 years   \n",
       "4                         1 year                       4 years   \n",
       "\n",
       "                               Telephone  Foreign_worker  \\\n",
       "0  Registered under the applicant's name               1   \n",
       "1                                    NaN               1   \n",
       "2                                    NaN               1   \n",
       "3                                    NaN               1   \n",
       "4                                    NaN               1   \n",
       "\n",
       "  Savings_account_balance  \\\n",
       "0                     NaN   \n",
       "1                     Low   \n",
       "2                     Low   \n",
       "3                     Low   \n",
       "4                     Low   \n",
       "\n",
       "  Balance_in_existing_bank_account_(lower_limit_of_bucket)  \\\n",
       "0                                                NaN         \n",
       "1                                                  0         \n",
       "2                                                NaN         \n",
       "3                                                NaN         \n",
       "4                                                NaN         \n",
       "\n",
       "  Balance_in_existing_bank_account_(upper_limit_of_bucket)  \n",
       "0                                                  0        \n",
       "1                                              2 lac        \n",
       "2                                                NaN        \n",
       "3                                                  0        \n",
       "4                                                  0        "
      ]
     },
     "execution_count": 4,
     "metadata": {},
     "output_type": "execute_result"
    }
   ],
   "source": [
    "data1.head()"
   ]
  },
  {
   "cell_type": "code",
   "execution_count": 5,
   "id": "6ba75afa",
   "metadata": {},
   "outputs": [
    {
     "data": {
      "text/html": [
       "<div>\n",
       "<style scoped>\n",
       "    .dataframe tbody tr th:only-of-type {\n",
       "        vertical-align: middle;\n",
       "    }\n",
       "\n",
       "    .dataframe tbody tr th {\n",
       "        vertical-align: top;\n",
       "    }\n",
       "\n",
       "    .dataframe thead th {\n",
       "        text-align: right;\n",
       "    }\n",
       "</style>\n",
       "<table border=\"1\" class=\"dataframe\">\n",
       "  <thead>\n",
       "    <tr style=\"text-align: right;\">\n",
       "      <th></th>\n",
       "      <th>loan_application_id</th>\n",
       "      <th>applicant_id</th>\n",
       "      <th>Months_loan_taken_for</th>\n",
       "      <th>Purpose</th>\n",
       "      <th>Principal_loan_amount</th>\n",
       "      <th>EMI_rate_in_percentage_of_disposable_income</th>\n",
       "      <th>Property</th>\n",
       "      <th>Has_coapplicant</th>\n",
       "      <th>Has_guarantor</th>\n",
       "      <th>Other_EMI_plans</th>\n",
       "      <th>Number_of_existing_loans_at_this_bank</th>\n",
       "      <th>Loan_history</th>\n",
       "      <th>high_risk_applicant</th>\n",
       "    </tr>\n",
       "  </thead>\n",
       "  <tbody>\n",
       "    <tr>\n",
       "      <th>995</th>\n",
       "      <td>d68fbba6-edad-11ea-80fe-30b2f9300e3d</td>\n",
       "      <td>1880194</td>\n",
       "      <td>12</td>\n",
       "      <td>FF&amp;E</td>\n",
       "      <td>1736000</td>\n",
       "      <td>3</td>\n",
       "      <td>real estate</td>\n",
       "      <td>0</td>\n",
       "      <td>0</td>\n",
       "      <td>NaN</td>\n",
       "      <td>1</td>\n",
       "      <td>existing loans paid back duly till now</td>\n",
       "      <td>0</td>\n",
       "    </tr>\n",
       "    <tr>\n",
       "      <th>996</th>\n",
       "      <td>d68fbc28-edad-11ea-bc62-4240ac0824fa</td>\n",
       "      <td>1114064</td>\n",
       "      <td>30</td>\n",
       "      <td>used vehicle</td>\n",
       "      <td>3857000</td>\n",
       "      <td>4</td>\n",
       "      <td>building society savings agreement/life insurance</td>\n",
       "      <td>0</td>\n",
       "      <td>0</td>\n",
       "      <td>NaN</td>\n",
       "      <td>1</td>\n",
       "      <td>existing loans paid back duly till now</td>\n",
       "      <td>0</td>\n",
       "    </tr>\n",
       "    <tr>\n",
       "      <th>997</th>\n",
       "      <td>d68fbcaa-edad-11ea-aafc-2de1139e42cd</td>\n",
       "      <td>1758046</td>\n",
       "      <td>12</td>\n",
       "      <td>electronic equipment</td>\n",
       "      <td>804000</td>\n",
       "      <td>4</td>\n",
       "      <td>car or other</td>\n",
       "      <td>0</td>\n",
       "      <td>0</td>\n",
       "      <td>NaN</td>\n",
       "      <td>1</td>\n",
       "      <td>existing loans paid back duly till now</td>\n",
       "      <td>0</td>\n",
       "    </tr>\n",
       "    <tr>\n",
       "      <th>998</th>\n",
       "      <td>d68fbd2c-edad-11ea-b49e-2894666f2df6</td>\n",
       "      <td>1824545</td>\n",
       "      <td>45</td>\n",
       "      <td>electronic equipment</td>\n",
       "      <td>1845000</td>\n",
       "      <td>4</td>\n",
       "      <td>NaN</td>\n",
       "      <td>0</td>\n",
       "      <td>0</td>\n",
       "      <td>NaN</td>\n",
       "      <td>1</td>\n",
       "      <td>existing loans paid back duly till now</td>\n",
       "      <td>1</td>\n",
       "    </tr>\n",
       "    <tr>\n",
       "      <th>999</th>\n",
       "      <td>d68fbdae-edad-11ea-a2ea-1c661d77d225</td>\n",
       "      <td>1660770</td>\n",
       "      <td>45</td>\n",
       "      <td>used vehicle</td>\n",
       "      <td>4576000</td>\n",
       "      <td>3</td>\n",
       "      <td>car or other</td>\n",
       "      <td>0</td>\n",
       "      <td>0</td>\n",
       "      <td>NaN</td>\n",
       "      <td>1</td>\n",
       "      <td>critical/pending loans at other banks</td>\n",
       "      <td>0</td>\n",
       "    </tr>\n",
       "  </tbody>\n",
       "</table>\n",
       "</div>"
      ],
      "text/plain": [
       "                      loan_application_id  applicant_id  \\\n",
       "995  d68fbba6-edad-11ea-80fe-30b2f9300e3d       1880194   \n",
       "996  d68fbc28-edad-11ea-bc62-4240ac0824fa       1114064   \n",
       "997  d68fbcaa-edad-11ea-aafc-2de1139e42cd       1758046   \n",
       "998  d68fbd2c-edad-11ea-b49e-2894666f2df6       1824545   \n",
       "999  d68fbdae-edad-11ea-a2ea-1c661d77d225       1660770   \n",
       "\n",
       "     Months_loan_taken_for               Purpose  Principal_loan_amount  \\\n",
       "995                     12                  FF&E                1736000   \n",
       "996                     30          used vehicle                3857000   \n",
       "997                     12  electronic equipment                 804000   \n",
       "998                     45  electronic equipment                1845000   \n",
       "999                     45          used vehicle                4576000   \n",
       "\n",
       "     EMI_rate_in_percentage_of_disposable_income  \\\n",
       "995                                            3   \n",
       "996                                            4   \n",
       "997                                            4   \n",
       "998                                            4   \n",
       "999                                            3   \n",
       "\n",
       "                                              Property  Has_coapplicant  \\\n",
       "995                                        real estate                0   \n",
       "996  building society savings agreement/life insurance                0   \n",
       "997                                       car or other                0   \n",
       "998                                                NaN                0   \n",
       "999                                       car or other                0   \n",
       "\n",
       "     Has_guarantor Other_EMI_plans  Number_of_existing_loans_at_this_bank  \\\n",
       "995              0             NaN                                      1   \n",
       "996              0             NaN                                      1   \n",
       "997              0             NaN                                      1   \n",
       "998              0             NaN                                      1   \n",
       "999              0             NaN                                      1   \n",
       "\n",
       "                               Loan_history  high_risk_applicant  \n",
       "995  existing loans paid back duly till now                    0  \n",
       "996  existing loans paid back duly till now                    0  \n",
       "997  existing loans paid back duly till now                    0  \n",
       "998  existing loans paid back duly till now                    1  \n",
       "999   critical/pending loans at other banks                    0  "
      ]
     },
     "execution_count": 5,
     "metadata": {},
     "output_type": "execute_result"
    }
   ],
   "source": [
    "data2.tail()"
   ]
  },
  {
   "cell_type": "code",
   "execution_count": 6,
   "id": "219854d3",
   "metadata": {},
   "outputs": [
    {
     "name": "stdout",
     "output_type": "stream",
     "text": [
      "<class 'pandas.core.frame.DataFrame'>\n",
      "RangeIndex: 1000 entries, 0 to 999\n",
      "Data columns (total 15 columns):\n",
      " #   Column                                                    Non-Null Count  Dtype \n",
      "---  ------                                                    --------------  ----- \n",
      " 0   applicant_id                                              1000 non-null   int64 \n",
      " 1   Primary_applicant_age_in_years                            1000 non-null   int64 \n",
      " 2   Gender                                                    1000 non-null   object\n",
      " 3   Marital_status                                            1000 non-null   object\n",
      " 4   Number_of_dependents                                      1000 non-null   int64 \n",
      " 5   Housing                                                   1000 non-null   object\n",
      " 6   Years_at_current_residence                                1000 non-null   int64 \n",
      " 7   Employment_status                                         1000 non-null   object\n",
      " 8   Has_been_employed_for_at_least                            938 non-null    object\n",
      " 9   Has_been_employed_for_at_most                             747 non-null    object\n",
      " 10  Telephone                                                 404 non-null    object\n",
      " 11  Foreign_worker                                            1000 non-null   int64 \n",
      " 12  Savings_account_balance                                   817 non-null    object\n",
      " 13  Balance_in_existing_bank_account_(lower_limit_of_bucket)  332 non-null    object\n",
      " 14  Balance_in_existing_bank_account_(upper_limit_of_bucket)  543 non-null    object\n",
      "dtypes: int64(5), object(10)\n",
      "memory usage: 117.3+ KB\n"
     ]
    }
   ],
   "source": [
    "data1.info()"
   ]
  },
  {
   "cell_type": "markdown",
   "id": "bf8ce355",
   "metadata": {},
   "source": [
    "### Working on string and NaN values of applicant csv"
   ]
  },
  {
   "cell_type": "code",
   "execution_count": 11,
   "id": "d5ebf291",
   "metadata": {},
   "outputs": [],
   "source": [
    "df=pd.DataFrame(data1)"
   ]
  },
  {
   "cell_type": "code",
   "execution_count": 13,
   "id": "faabe768",
   "metadata": {},
   "outputs": [],
   "source": [
    "df.rename(columns={'Balance_in_existing_bank_account_(lower_limit_of_bucket)' :'Balance_in_existing_bank_account_lower',\n",
    "'Balance_in_existing_bank_account_(upper_limit_of_bucket)':'Balance_in_existing_bank_account_upper'},inplace=True)"
   ]
  },
  {
   "cell_type": "code",
   "execution_count": 15,
   "id": "7e63acee",
   "metadata": {},
   "outputs": [],
   "source": [
    "Has_been_employed_for_at_least=enc.fit_transform(data1['Has_been_employed_for_at_least'])\n",
    "Has_been_employed_for_at_most=enc.fit_transform(data1['Has_been_employed_for_at_most'])\n",
    "Savings_account_balance=enc.fit_transform(data1['Savings_account_balance'])\n",
    "#Has_been_employed_for_at_least=enc.data_transform(data1['Has_been_employed_for_at_least'])\n",
    "Balance_in_existing_bank_account_lower=enc.fit_transform(data1['Balance_in_existing_bank_account_lower'])\n",
    "Balance_in_existing_bank_account_upper=enc.fit_transform(data1['Balance_in_existing_bank_account_upper'])\n",
    "Telephone=enc.fit_transform(data1['Telephone'])"
   ]
  },
  {
   "cell_type": "code",
   "execution_count": 18,
   "id": "101c2f9e",
   "metadata": {},
   "outputs": [],
   "source": [
    "data1['Has_been_employed_for_at_least']=Has_been_employed_for_at_least\n",
    "data1['Has_been_employed_for_at_most']=Has_been_employed_for_at_most\n",
    "data1['Savings_account_balance']=Savings_account_balance\n",
    "data1['Has_been_employed_for_at_least']=Has_been_employed_for_at_least\n",
    "data1['Balance_in_existing_bank_account_(lower_limit_of_bucket)']=Balance_in_existing_bank_account_lower\n",
    "data1['Balance_in_existing_bank_account_(upper_limit_of_bucket)']=Balance_in_existing_bank_account_upper\n",
    "data1['Telephone']=Telephone"
   ]
  },
  {
   "cell_type": "code",
   "execution_count": 20,
   "id": "ce250b98",
   "metadata": {},
   "outputs": [],
   "source": [
    "data1['Has_been_employed_for_at_least'].fillna(data1['Has_been_employed_for_at_least'].value_counts().idxmax(), inplace=True)\n",
    "data1['Has_been_employed_for_at_most'].fillna(data1['Has_been_employed_for_at_most'].value_counts().idxmax(), inplace=True)\n",
    "data1['Savings_account_balance'].fillna(data1['Savings_account_balance'].value_counts().idxmax(), inplace=True)\n",
    "data1['Has_been_employed_for_at_least'].fillna(data1['Has_been_employed_for_at_least'].value_counts().idxmax(), inplace=True)\n",
    "data1['Balance_in_existing_bank_account_lower'].fillna(data1['Balance_in_existing_bank_account_lower'].value_counts().idxmax(), inplace=True)\n",
    "data1['Balance_in_existing_bank_account_upper'].fillna(data1['Balance_in_existing_bank_account_upper'].value_counts().idxmax(), inplace=True)\n",
    "data1['Telephone'].fillna(data1['Telephone'].value_counts().idxmax(), inplace=True)"
   ]
  },
  {
   "cell_type": "code",
   "execution_count": 21,
   "id": "87dbd6f0",
   "metadata": {},
   "outputs": [
    {
     "name": "stdout",
     "output_type": "stream",
     "text": [
      "<class 'pandas.core.frame.DataFrame'>\n",
      "RangeIndex: 1000 entries, 0 to 999\n",
      "Data columns (total 17 columns):\n",
      " #   Column                                                    Non-Null Count  Dtype \n",
      "---  ------                                                    --------------  ----- \n",
      " 0   applicant_id                                              1000 non-null   int64 \n",
      " 1   Primary_applicant_age_in_years                            1000 non-null   int64 \n",
      " 2   Gender                                                    1000 non-null   object\n",
      " 3   Marital_status                                            1000 non-null   object\n",
      " 4   Number_of_dependents                                      1000 non-null   int64 \n",
      " 5   Housing                                                   1000 non-null   object\n",
      " 6   Years_at_current_residence                                1000 non-null   int64 \n",
      " 7   Employment_status                                         1000 non-null   object\n",
      " 8   Has_been_employed_for_at_least                            1000 non-null   int32 \n",
      " 9   Has_been_employed_for_at_most                             1000 non-null   int32 \n",
      " 10  Telephone                                                 1000 non-null   int32 \n",
      " 11  Foreign_worker                                            1000 non-null   int64 \n",
      " 12  Savings_account_balance                                   1000 non-null   int32 \n",
      " 13  Balance_in_existing_bank_account_lower                    1000 non-null   object\n",
      " 14  Balance_in_existing_bank_account_upper                    1000 non-null   object\n",
      " 15  Balance_in_existing_bank_account_(lower_limit_of_bucket)  1000 non-null   int32 \n",
      " 16  Balance_in_existing_bank_account_(upper_limit_of_bucket)  1000 non-null   int32 \n",
      "dtypes: int32(6), int64(5), object(6)\n",
      "memory usage: 109.5+ KB\n"
     ]
    }
   ],
   "source": [
    "data1.info()"
   ]
  },
  {
   "cell_type": "markdown",
   "id": "99fc50d9",
   "metadata": {},
   "source": [
    "### All NaN values have been updated in applicant's csv."
   ]
  },
  {
   "cell_type": "code",
   "execution_count": 22,
   "id": "80332fb5",
   "metadata": {},
   "outputs": [
    {
     "name": "stdout",
     "output_type": "stream",
     "text": [
      "<class 'pandas.core.frame.DataFrame'>\n",
      "RangeIndex: 1000 entries, 0 to 999\n",
      "Data columns (total 13 columns):\n",
      " #   Column                                       Non-Null Count  Dtype \n",
      "---  ------                                       --------------  ----- \n",
      " 0   loan_application_id                          1000 non-null   object\n",
      " 1   applicant_id                                 1000 non-null   int64 \n",
      " 2   Months_loan_taken_for                        1000 non-null   int64 \n",
      " 3   Purpose                                      988 non-null    object\n",
      " 4   Principal_loan_amount                        1000 non-null   int64 \n",
      " 5   EMI_rate_in_percentage_of_disposable_income  1000 non-null   int64 \n",
      " 6   Property                                     846 non-null    object\n",
      " 7   Has_coapplicant                              1000 non-null   int64 \n",
      " 8   Has_guarantor                                1000 non-null   int64 \n",
      " 9   Other_EMI_plans                              186 non-null    object\n",
      " 10  Number_of_existing_loans_at_this_bank        1000 non-null   int64 \n",
      " 11  Loan_history                                 1000 non-null   object\n",
      " 12  high_risk_applicant                          1000 non-null   int64 \n",
      "dtypes: int64(8), object(5)\n",
      "memory usage: 101.7+ KB\n"
     ]
    }
   ],
   "source": [
    "data2.info()"
   ]
  },
  {
   "cell_type": "markdown",
   "id": "3e7a3a35",
   "metadata": {},
   "source": [
    "### We would change the missing values over here with the most common answer wherever there are less than 200 NaN values."
   ]
  },
  {
   "cell_type": "code",
   "execution_count": 23,
   "id": "f3d30ad5",
   "metadata": {},
   "outputs": [],
   "source": [
    "data2['Purpose'].fillna(data2['Purpose'].value_counts().idxmax(), inplace=True)\n",
    "data2['Property'].fillna(data2['Property'].value_counts().idxmax(), inplace=True)"
   ]
  },
  {
   "cell_type": "code",
   "execution_count": 24,
   "id": "699dff43",
   "metadata": {},
   "outputs": [],
   "source": [
    "from sklearn.preprocessing import LabelEncoder\n",
    "enc=LabelEncoder()"
   ]
  },
  {
   "cell_type": "code",
   "execution_count": 25,
   "id": "f4d546c3",
   "metadata": {},
   "outputs": [],
   "source": [
    "Purpose=enc.fit_transform(data2['Purpose'])\n",
    "Property=enc.fit_transform(data2['Property'])"
   ]
  },
  {
   "cell_type": "code",
   "execution_count": 26,
   "id": "5ffd55f4",
   "metadata": {},
   "outputs": [],
   "source": [
    "Other_EMI_plans=enc.fit_transform(data2['Other_EMI_plans'])"
   ]
  },
  {
   "cell_type": "code",
   "execution_count": 27,
   "id": "a5ea0abd",
   "metadata": {},
   "outputs": [],
   "source": [
    "data2['Other_EMI_plans']=data2['Other_EMI_plans'].fillna(0)"
   ]
  },
  {
   "cell_type": "code",
   "execution_count": 28,
   "id": "ec4694ae",
   "metadata": {},
   "outputs": [],
   "source": [
    "Loan_history=enc.fit_transform(data2['Loan_history'])"
   ]
  },
  {
   "cell_type": "markdown",
   "id": "e67686be",
   "metadata": {},
   "source": [
    "### Values updated in loan csv."
   ]
  },
  {
   "cell_type": "code",
   "execution_count": 29,
   "id": "cbe2eb47",
   "metadata": {},
   "outputs": [],
   "source": [
    "data2['Purpose']=Purpose\n",
    "data2['Property']=Property\n",
    "data2['Other_EMI_plans']=Other_EMI_plans\n",
    "data2['Loan_history']=Loan_history"
   ]
  },
  {
   "cell_type": "code",
   "execution_count": 30,
   "id": "e2537efe",
   "metadata": {
    "scrolled": true
   },
   "outputs": [
    {
     "data": {
      "text/html": [
       "<div>\n",
       "<style scoped>\n",
       "    .dataframe tbody tr th:only-of-type {\n",
       "        vertical-align: middle;\n",
       "    }\n",
       "\n",
       "    .dataframe tbody tr th {\n",
       "        vertical-align: top;\n",
       "    }\n",
       "\n",
       "    .dataframe thead th {\n",
       "        text-align: right;\n",
       "    }\n",
       "</style>\n",
       "<table border=\"1\" class=\"dataframe\">\n",
       "  <thead>\n",
       "    <tr style=\"text-align: right;\">\n",
       "      <th></th>\n",
       "      <th>loan_application_id</th>\n",
       "      <th>Months_loan_taken_for</th>\n",
       "      <th>Purpose</th>\n",
       "      <th>Principal_loan_amount</th>\n",
       "      <th>EMI_rate_in_percentage_of_disposable_income</th>\n",
       "      <th>Property</th>\n",
       "      <th>Has_coapplicant</th>\n",
       "      <th>Has_guarantor</th>\n",
       "      <th>Other_EMI_plans</th>\n",
       "      <th>Number_of_existing_loans_at_this_bank</th>\n",
       "      <th>Loan_history</th>\n",
       "      <th>high_risk_applicant</th>\n",
       "    </tr>\n",
       "  </thead>\n",
       "  <tbody>\n",
       "    <tr>\n",
       "      <th>0</th>\n",
       "      <td>d68d975e-edad-11ea-8761-1d6f9c1ff461</td>\n",
       "      <td>6</td>\n",
       "      <td>5</td>\n",
       "      <td>1169000</td>\n",
       "      <td>4</td>\n",
       "      <td>2</td>\n",
       "      <td>0</td>\n",
       "      <td>0</td>\n",
       "      <td>2</td>\n",
       "      <td>2</td>\n",
       "      <td>1</td>\n",
       "      <td>0</td>\n",
       "    </tr>\n",
       "    <tr>\n",
       "      <th>1</th>\n",
       "      <td>d68d989e-edad-11ea-b1d5-2bcf65006448</td>\n",
       "      <td>48</td>\n",
       "      <td>5</td>\n",
       "      <td>5951000</td>\n",
       "      <td>2</td>\n",
       "      <td>2</td>\n",
       "      <td>0</td>\n",
       "      <td>0</td>\n",
       "      <td>2</td>\n",
       "      <td>1</td>\n",
       "      <td>3</td>\n",
       "      <td>1</td>\n",
       "    </tr>\n",
       "    <tr>\n",
       "      <th>2</th>\n",
       "      <td>d68d995c-edad-11ea-814a-1b6716782575</td>\n",
       "      <td>12</td>\n",
       "      <td>4</td>\n",
       "      <td>2096000</td>\n",
       "      <td>2</td>\n",
       "      <td>2</td>\n",
       "      <td>0</td>\n",
       "      <td>0</td>\n",
       "      <td>2</td>\n",
       "      <td>1</td>\n",
       "      <td>1</td>\n",
       "      <td>0</td>\n",
       "    </tr>\n",
       "    <tr>\n",
       "      <th>3</th>\n",
       "      <td>d68d99fc-edad-11ea-8841-17e8848060ae</td>\n",
       "      <td>42</td>\n",
       "      <td>0</td>\n",
       "      <td>7882000</td>\n",
       "      <td>2</td>\n",
       "      <td>0</td>\n",
       "      <td>0</td>\n",
       "      <td>1</td>\n",
       "      <td>2</td>\n",
       "      <td>1</td>\n",
       "      <td>3</td>\n",
       "      <td>0</td>\n",
       "    </tr>\n",
       "    <tr>\n",
       "      <th>4</th>\n",
       "      <td>d68d9a92-edad-11ea-9f3d-1f8682db006a</td>\n",
       "      <td>24</td>\n",
       "      <td>6</td>\n",
       "      <td>4870000</td>\n",
       "      <td>3</td>\n",
       "      <td>1</td>\n",
       "      <td>0</td>\n",
       "      <td>0</td>\n",
       "      <td>2</td>\n",
       "      <td>2</td>\n",
       "      <td>2</td>\n",
       "      <td>1</td>\n",
       "    </tr>\n",
       "  </tbody>\n",
       "</table>\n",
       "</div>"
      ],
      "text/plain": [
       "                    loan_application_id  Months_loan_taken_for  Purpose  \\\n",
       "0  d68d975e-edad-11ea-8761-1d6f9c1ff461                      6        5   \n",
       "1  d68d989e-edad-11ea-b1d5-2bcf65006448                     48        5   \n",
       "2  d68d995c-edad-11ea-814a-1b6716782575                     12        4   \n",
       "3  d68d99fc-edad-11ea-8841-17e8848060ae                     42        0   \n",
       "4  d68d9a92-edad-11ea-9f3d-1f8682db006a                     24        6   \n",
       "\n",
       "   Principal_loan_amount  EMI_rate_in_percentage_of_disposable_income  \\\n",
       "0                1169000                                            4   \n",
       "1                5951000                                            2   \n",
       "2                2096000                                            2   \n",
       "3                7882000                                            2   \n",
       "4                4870000                                            3   \n",
       "\n",
       "   Property  Has_coapplicant  Has_guarantor  Other_EMI_plans  \\\n",
       "0         2                0              0                2   \n",
       "1         2                0              0                2   \n",
       "2         2                0              0                2   \n",
       "3         0                0              1                2   \n",
       "4         1                0              0                2   \n",
       "\n",
       "   Number_of_existing_loans_at_this_bank  Loan_history  high_risk_applicant  \n",
       "0                                      2             1                    0  \n",
       "1                                      1             3                    1  \n",
       "2                                      1             1                    0  \n",
       "3                                      1             3                    0  \n",
       "4                                      2             2                    1  "
      ]
     },
     "execution_count": 30,
     "metadata": {},
     "output_type": "execute_result"
    }
   ],
   "source": [
    "newdf=data2.copy()\n",
    "newdf = data2.drop(\"applicant_id\", axis='columns')\n",
    "newdf.head()"
   ]
  },
  {
   "cell_type": "code",
   "execution_count": 31,
   "id": "44ae460e",
   "metadata": {},
   "outputs": [
    {
     "data": {
      "text/html": [
       "<div>\n",
       "<style scoped>\n",
       "    .dataframe tbody tr th:only-of-type {\n",
       "        vertical-align: middle;\n",
       "    }\n",
       "\n",
       "    .dataframe tbody tr th {\n",
       "        vertical-align: top;\n",
       "    }\n",
       "\n",
       "    .dataframe thead th {\n",
       "        text-align: right;\n",
       "    }\n",
       "</style>\n",
       "<table border=\"1\" class=\"dataframe\">\n",
       "  <thead>\n",
       "    <tr style=\"text-align: right;\">\n",
       "      <th></th>\n",
       "      <th>applicant_id</th>\n",
       "      <th>Months_loan_taken_for</th>\n",
       "      <th>Purpose</th>\n",
       "      <th>Principal_loan_amount</th>\n",
       "      <th>EMI_rate_in_percentage_of_disposable_income</th>\n",
       "      <th>Property</th>\n",
       "      <th>Has_coapplicant</th>\n",
       "      <th>Has_guarantor</th>\n",
       "      <th>Other_EMI_plans</th>\n",
       "      <th>Number_of_existing_loans_at_this_bank</th>\n",
       "      <th>Loan_history</th>\n",
       "      <th>high_risk_applicant</th>\n",
       "    </tr>\n",
       "  </thead>\n",
       "  <tbody>\n",
       "    <tr>\n",
       "      <th>0</th>\n",
       "      <td>1469590</td>\n",
       "      <td>6</td>\n",
       "      <td>5</td>\n",
       "      <td>1169000</td>\n",
       "      <td>4</td>\n",
       "      <td>2</td>\n",
       "      <td>0</td>\n",
       "      <td>0</td>\n",
       "      <td>2</td>\n",
       "      <td>2</td>\n",
       "      <td>1</td>\n",
       "      <td>0</td>\n",
       "    </tr>\n",
       "    <tr>\n",
       "      <th>1</th>\n",
       "      <td>1203873</td>\n",
       "      <td>48</td>\n",
       "      <td>5</td>\n",
       "      <td>5951000</td>\n",
       "      <td>2</td>\n",
       "      <td>2</td>\n",
       "      <td>0</td>\n",
       "      <td>0</td>\n",
       "      <td>2</td>\n",
       "      <td>1</td>\n",
       "      <td>3</td>\n",
       "      <td>1</td>\n",
       "    </tr>\n",
       "    <tr>\n",
       "      <th>2</th>\n",
       "      <td>1432761</td>\n",
       "      <td>12</td>\n",
       "      <td>4</td>\n",
       "      <td>2096000</td>\n",
       "      <td>2</td>\n",
       "      <td>2</td>\n",
       "      <td>0</td>\n",
       "      <td>0</td>\n",
       "      <td>2</td>\n",
       "      <td>1</td>\n",
       "      <td>1</td>\n",
       "      <td>0</td>\n",
       "    </tr>\n",
       "    <tr>\n",
       "      <th>3</th>\n",
       "      <td>1207582</td>\n",
       "      <td>42</td>\n",
       "      <td>0</td>\n",
       "      <td>7882000</td>\n",
       "      <td>2</td>\n",
       "      <td>0</td>\n",
       "      <td>0</td>\n",
       "      <td>1</td>\n",
       "      <td>2</td>\n",
       "      <td>1</td>\n",
       "      <td>3</td>\n",
       "      <td>0</td>\n",
       "    </tr>\n",
       "    <tr>\n",
       "      <th>4</th>\n",
       "      <td>1674436</td>\n",
       "      <td>24</td>\n",
       "      <td>6</td>\n",
       "      <td>4870000</td>\n",
       "      <td>3</td>\n",
       "      <td>1</td>\n",
       "      <td>0</td>\n",
       "      <td>0</td>\n",
       "      <td>2</td>\n",
       "      <td>2</td>\n",
       "      <td>2</td>\n",
       "      <td>1</td>\n",
       "    </tr>\n",
       "  </tbody>\n",
       "</table>\n",
       "</div>"
      ],
      "text/plain": [
       "   applicant_id  Months_loan_taken_for  Purpose  Principal_loan_amount  \\\n",
       "0       1469590                      6        5                1169000   \n",
       "1       1203873                     48        5                5951000   \n",
       "2       1432761                     12        4                2096000   \n",
       "3       1207582                     42        0                7882000   \n",
       "4       1674436                     24        6                4870000   \n",
       "\n",
       "   EMI_rate_in_percentage_of_disposable_income  Property  Has_coapplicant  \\\n",
       "0                                            4         2                0   \n",
       "1                                            2         2                0   \n",
       "2                                            2         2                0   \n",
       "3                                            2         0                0   \n",
       "4                                            3         1                0   \n",
       "\n",
       "   Has_guarantor  Other_EMI_plans  Number_of_existing_loans_at_this_bank  \\\n",
       "0              0                2                                      2   \n",
       "1              0                2                                      1   \n",
       "2              0                2                                      1   \n",
       "3              1                2                                      1   \n",
       "4              0                2                                      2   \n",
       "\n",
       "   Loan_history  high_risk_applicant  \n",
       "0             1                    0  \n",
       "1             3                    1  \n",
       "2             1                    0  \n",
       "3             3                    0  \n",
       "4             2                    1  "
      ]
     },
     "execution_count": 31,
     "metadata": {},
     "output_type": "execute_result"
    }
   ],
   "source": [
    "newdf = data2.drop(\"loan_application_id\", axis='columns')\n",
    "newdf.head()"
   ]
  },
  {
   "cell_type": "code",
   "execution_count": 32,
   "id": "0af83efc",
   "metadata": {},
   "outputs": [],
   "source": [
    "x = newdf.iloc[:,1:11]\n",
    "y = newdf.iloc[:,11]\n",
    "\n",
    "#make variabel for save the result and to show it\n",
    "classifier = ('Gradient Boosting','Random Forest','Decision Tree','K-Nearest Neighbor','SVM')\n",
    "y_pos = np.arange(len(classifier))\n",
    "score = []"
   ]
  },
  {
   "cell_type": "code",
   "execution_count": 33,
   "id": "79f4d11d",
   "metadata": {},
   "outputs": [
    {
     "name": "stdout",
     "output_type": "stream",
     "text": [
      "The accuration of classification is 70.30%\n"
     ]
    }
   ],
   "source": [
    "clf = GradientBoostingClassifier()\n",
    "scores = cross_val_score(clf, x, y,cv=5)\n",
    "score.append(scores.mean())\n",
    "print('The accuration of classification is %.2f%%' %(scores.mean()*100))"
   ]
  },
  {
   "cell_type": "code",
   "execution_count": 34,
   "id": "923582ff",
   "metadata": {},
   "outputs": [
    {
     "name": "stdout",
     "output_type": "stream",
     "text": [
      "The accuration of classification is 68.10%\n"
     ]
    }
   ],
   "source": [
    "clf = RandomForestClassifier(n_estimators=10)\n",
    "scores = cross_val_score(clf, x, y,cv=5)\n",
    "score.append(scores.mean())\n",
    "print('The accuration of classification is %.2f%%' %(scores.mean()*100))"
   ]
  },
  {
   "cell_type": "code",
   "execution_count": 35,
   "id": "50c2e39c",
   "metadata": {},
   "outputs": [
    {
     "name": "stdout",
     "output_type": "stream",
     "text": [
      "The accuration of classification is 63.30%\n"
     ]
    }
   ],
   "source": [
    "clf = DecisionTreeClassifier()\n",
    "scores = cross_val_score(clf, x, y,cv=5)\n",
    "score.append(scores.mean())\n",
    "print('The accuration of classification is %.2f%%' %(scores.mean()*100))"
   ]
  },
  {
   "cell_type": "code",
   "execution_count": 36,
   "id": "88fdb3dc",
   "metadata": {},
   "outputs": [
    {
     "name": "stdout",
     "output_type": "stream",
     "text": [
      "The accuration of classification is 64.30%\n"
     ]
    }
   ],
   "source": [
    "clf = KNeighborsClassifier()\n",
    "scores = cross_val_score(clf, x, y,cv=5)\n",
    "score.append(scores.mean())\n",
    "print('The accuration of classification is %.2f%%' %(scores.mean()*100))"
   ]
  },
  {
   "cell_type": "code",
   "execution_count": 37,
   "id": "9d715947",
   "metadata": {},
   "outputs": [
    {
     "name": "stderr",
     "output_type": "stream",
     "text": [
      "C:\\Users\\asus\\anaconda3\\lib\\site-packages\\sklearn\\svm\\_base.py:985: ConvergenceWarning: Liblinear failed to converge, increase the number of iterations.\n",
      "  warnings.warn(\"Liblinear failed to converge, increase \"\n",
      "C:\\Users\\asus\\anaconda3\\lib\\site-packages\\sklearn\\svm\\_base.py:985: ConvergenceWarning: Liblinear failed to converge, increase the number of iterations.\n",
      "  warnings.warn(\"Liblinear failed to converge, increase \"\n",
      "C:\\Users\\asus\\anaconda3\\lib\\site-packages\\sklearn\\svm\\_base.py:985: ConvergenceWarning: Liblinear failed to converge, increase the number of iterations.\n",
      "  warnings.warn(\"Liblinear failed to converge, increase \"\n",
      "C:\\Users\\asus\\anaconda3\\lib\\site-packages\\sklearn\\svm\\_base.py:985: ConvergenceWarning: Liblinear failed to converge, increase the number of iterations.\n",
      "  warnings.warn(\"Liblinear failed to converge, increase \"\n"
     ]
    },
    {
     "name": "stdout",
     "output_type": "stream",
     "text": [
      "The accuration of classification is 54.00%\n"
     ]
    },
    {
     "name": "stderr",
     "output_type": "stream",
     "text": [
      "C:\\Users\\asus\\anaconda3\\lib\\site-packages\\sklearn\\svm\\_base.py:985: ConvergenceWarning: Liblinear failed to converge, increase the number of iterations.\n",
      "  warnings.warn(\"Liblinear failed to converge, increase \"\n"
     ]
    }
   ],
   "source": [
    "clf  =  svm.LinearSVC(max_iter=5000)\n",
    "scores = cross_val_score(clf, x, y,cv=5)\n",
    "score.append(scores.mean())\n",
    "print('The accuration of classification is %.2f%%' %(scores.mean()*100))"
   ]
  },
  {
   "cell_type": "code",
   "execution_count": 38,
   "id": "94ca908a",
   "metadata": {},
   "outputs": [
    {
     "data": {
      "image/png": "[encoded data removed]",
      "text/plain": [
       "<Figure size 432x288 with 1 Axes>"
      ]
     },
     "metadata": {
      "needs_background": "light"
     },
     "output_type": "display_data"
    }
   ],
   "source": [
    "plt.barh(y_pos, score, align='center', alpha=0.5)\n",
    "plt.yticks(y_pos, classifier)\n",
    "plt.xlabel('Score')\n",
    "plt.title('Classification Performance')\n",
    "plt.show()"
   ]
  },
  {
   "cell_type": "markdown",
   "id": "0c6a3d26",
   "metadata": {},
   "source": [
    "### So, we can see that gradient boosting serves as the best algorithm for our data ."
   ]
  },
  {
   "cell_type": "code",
   "execution_count": null,
   "id": "9f3d4b09",
   "metadata": {},
   "outputs": [],
   "source": []
  }
 ],
 "metadata": {
  "kernelspec": {
   "display_name": "Python 3",
   "language": "python",
   "name": "python3"
  },
  "language_info": {
   "codemirror_mode": {
    "name": "ipython",
    "version": 3
   },
   "file_extension": ".py",
   "mimetype": "text/x-python",
   "name": "python",
   "nbconvert_exporter": "python",
   "pygments_lexer": "ipython3",
   "version": "3.8.8"
  }
 },
 "nbformat": 4,
 "nbformat_minor": 5
}
